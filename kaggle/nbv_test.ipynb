{
metadata: {
name: "",
signature: "sha256:7a6f270e70de3674ba3c2074c716ddd40cef4c477a551531263e62e82f4e4309"
},
nbformat: 3,
nbformat_minor: 0,
worksheets: [
{
cells: [
{
cell_type: "code",
collapsed: false,
input: [
"import pandas as pd ",
"import numpy as np ",
"from sklearn import metrics"
],
language: "python",
metadata: { },
outputs: [ ]
},
{
cell_type: "code",
collapsed: false,
input: [
"def mcrmse(predictions, actual, m): ",
" #mean columnwise root mean squared error ",
" #1/m SUM(J=1-m)SQRT(1/N SUM(I=1-N)(ACTUALIJ-PREDICTEDIJ)^2) ",
" return sum(np.sqrt(sum(np.power(actual-predictions,2))/predictions.shape[0]))/m ",
" ",
"def area_under_curve(y_true, y_score, pos_label=None, sample_weight=None): ",
" #AUC ",
" fpr, tpr, thresholds = roc_curve(y_true=y_true, y_score=y_score, pos_label=pos_label, sample_weight=sample_weight) ",
" roc_auc = auc(fpr, tpr) ",
" return roc_auc ",
" ",
"def weighted_gini(actual,prediction,weight): ",
" #Weighted GINI coefficient ",
" df = pd.DataFrame({"act":actual,"pred":prediction,"weight":weight}) ",
" df.sort('pred',ascending=False,inplace=True) ",
" df["random"] = (df.weight / df.weight.sum()).cumsum() ",
" total_pos = (df.actual * df.weight).sum() ",
" df["cum_pos_found"] = (df.actual * df.weight).cumsum() ",
" df["lorenz"] = df.cum_pos_found / total_pos ",
" df["gini"] = (df.lorenz - df.random) * df.weight ",
" return df.gini.sum() ",
" ",
"def normalized_weighted_gini(actual,prediction,weight): ",
" #Normalized weighted GINI coefficient ",
" return weighted_gini(actual,prediction,weight) / weighted_gini(actual,actual,weight)"
],
language: "python",
metadata: { },
outputs: [ ]
}
],
metadata: { }
}
]
}
