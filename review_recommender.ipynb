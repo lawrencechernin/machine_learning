{
 "metadata": {
  "name": "",
  "signature": "sha256:b47725bb8fc827a1c6b9f5cbf319b915110e3835a5d61130d37077b8776ba44a"
 },
 "nbformat": 3,
 "nbformat_minor": 0,
 "worksheets": [
  {
   "cells": [
    {
     "cell_type": "code",
     "collapsed": false,
     "input": [
      "# Recommendation system to calculate euclidean distance between pairs of products who have been reviewed by the same user.\n",
      "# pick up original data here: https://s3.amazonaws.com/demo-datasets/beer_reviews.tar.gz\n",
      "# original code from Greg Lamp: http://nbviewer.ipython.org/gist/glamp/20a18d52c539b87de2af\n",
      "\n",
      "\n",
      "import pandas as pd\n",
      "import numpy as np\n",
      "import pylab as pl\n",
      "df = pd.read_csv(\"beer_reviews.csv\")\n",
      "from sklearn.metrics.pairwise import euclidean_distances\n",
      "\n",
      "#  fill in run requirements here:\n",
      "REVIEW_FEATURES = ['review_overall', 'review_aroma', 'review_palate', 'review_taste']\n",
      "products = [\"Dale's Pale Ale\", \"Sierra Nevada Pale Ale\", \"Michelob Ultra\",\n",
      "         \"Natural Light\", \"Bud Light\", \"Fat Tire Amber Ale\", \"Coors Light\",\n",
      "         \"Blue Moon Belgian White\", \"Guinness Draught\"]  # our favorite beers!\n",
      "\n",
      "\n",
      "def get_product_reviews(product, common_users):\n",
      "    mask = (df.review_profilename.isin(common_users)) & (df.beer_name==product)\n",
      "    reviews = df[mask].sort('review_profilename')\n",
      "    reviews = reviews[reviews.review_profilename.duplicated()==False]\n",
      "    return reviews\n",
      "\n",
      "\n",
      "\n",
      "def calculate_similarity(product1, product2):\n",
      "    # find common reviewers\n",
      "    product_1_reviewers = df[df.beer_name==product1].review_profilename.unique()\n",
      "    product_2_reviewers = df[df.beer_name==product2].review_profilename.unique()\n",
      "    common_reviewers = set(product_1_reviewers).intersection(product_2_reviewers)\n",
      "\n",
      "    # get reviews\n",
      "    product_1_reviews = get_product_reviews(product1, common_reviewers)\n",
      "    product_2_reviews = get_product_reviews(product2, common_reviewers)\n",
      "    dists = []\n",
      "    for f in REVIEW_FEATURES:\n",
      "        dists.append(euclidean_distances(product_1_reviews[f], product_2_reviews[f])[0][0])\n",
      "    \n",
      "    return dists\n",
      "\n",
      "\n",
      "\n",
      "\n",
      "simple_distances = []\n",
      "for product1 in products:\n",
      "    print \"starting distance computations for \", product1\n",
      "    for product2 in products:\n",
      "        if product1 != product2:\n",
      "            row = [product1, product2] + calculate_similarity(product1, product2)\n",
      "            simple_distances.append(row)\n",
      "\n",
      "output_names = []\n",
      "for f in REVIEW_FEATURES:\n",
      "    output_name = f + \"_distance\"\n",
      "    output_names.append([output_name])\n",
      "\n",
      "cols = [\"product1\", \"product2\"] + output_names\n",
      "simple_distances = pd.DataFrame(simple_distances, columns=cols)\n",
      "\n",
      "#print \"Tail of Results File:\"\n",
      "#simple_distances.tail()\n",
      "product= \"Coors Light\"\n",
      "p1 = simple_distances[simple_distances.product1==product]\n",
      "print \"Results for \", product\n",
      "print p1\n"
     ],
     "language": "python",
     "metadata": {},
     "outputs": [
      {
       "output_type": "stream",
       "stream": "stdout",
       "text": [
        "starting distance computations for  Dale's Pale Ale\n",
        "starting distance computations for "
       ]
      },
      {
       "output_type": "stream",
       "stream": "stdout",
       "text": [
        " Sierra Nevada Pale Ale\n",
        "starting distance computations for "
       ]
      },
      {
       "output_type": "stream",
       "stream": "stdout",
       "text": [
        " Michelob Ultra\n",
        "starting distance computations for "
       ]
      },
      {
       "output_type": "stream",
       "stream": "stdout",
       "text": [
        " Natural Light\n",
        "starting distance computations for "
       ]
      },
      {
       "output_type": "stream",
       "stream": "stdout",
       "text": [
        " Bud Light\n",
        "starting distance computations for "
       ]
      },
      {
       "output_type": "stream",
       "stream": "stdout",
       "text": [
        " Fat Tire Amber Ale\n",
        "starting distance computations for "
       ]
      },
      {
       "output_type": "stream",
       "stream": "stdout",
       "text": [
        " Coors Light\n",
        "starting distance computations for "
       ]
      },
      {
       "output_type": "stream",
       "stream": "stdout",
       "text": [
        " Blue Moon Belgian White\n",
        "starting distance computations for "
       ]
      },
      {
       "output_type": "stream",
       "stream": "stdout",
       "text": [
        " Guinness Draught\n",
        "Results for "
       ]
      },
      {
       "output_type": "stream",
       "stream": "stdout",
       "text": [
        " Coors Light\n",
        "       product1                 product2  (review_overall_distance,)  \\\n",
        "48  Coors Light          Dale's Pale Ale                   33.933759   \n",
        "49  Coors Light   Sierra Nevada Pale Ale                   48.458745   \n",
        "50  Coors Light           Michelob Ultra                   17.677670   \n",
        "51  Coors Light            Natural Light                   17.204651   \n",
        "52  Coors Light                Bud Light                   25.009998   \n",
        "53  Coors Light       Fat Tire Amber Ale                   34.996428   \n",
        "54  Coors Light  Blue Moon Belgian White                   33.132311   \n",
        "55  Coors Light         Guinness Draught                   41.212862   \n",
        "\n",
        "    (review_aroma_distance,)  (review_palate_distance,)  \\\n",
        "48                 38.275318                  35.972211   \n",
        "49                 52.614162                  50.586559   \n",
        "50                 11.202678                  12.599603   \n",
        "51                 10.344080                  12.529964   \n",
        "52                 15.524175                  17.139137   \n",
        "53                 35.078483                  34.608525   \n",
        "54                 36.698093                  35.752622   \n",
        "55                 38.571362                  43.568911   \n",
        "\n",
        "    (review_taste_distance,)  \n",
        "48                 38.584323  \n",
        "49                 54.888523  \n",
        "50                 12.155246  \n",
        "51                 13.200379  \n",
        "52                 18.674849  \n",
        "53                 36.065912  \n",
        "54                 35.968736  \n",
        "55                 40.428950  \n"
       ]
      }
     ],
     "prompt_number": 7
    }
   ],
   "metadata": {}
  }
 ]
}
